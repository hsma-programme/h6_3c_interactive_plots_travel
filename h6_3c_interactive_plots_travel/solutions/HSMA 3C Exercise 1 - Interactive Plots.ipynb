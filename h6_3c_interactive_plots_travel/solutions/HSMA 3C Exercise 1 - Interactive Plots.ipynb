{
 "cells": [
  {
   "cell_type": "markdown",
   "metadata": {},
   "source": [
    "# HSMA 3C: Exercise 1 - Interactive Plots"
   ]
  },
  {
   "cell_type": "markdown",
   "metadata": {},
   "source": [
    "*The first cell only needs to be run if running in colab!* "
   ]
  },
  {
   "cell_type": "code",
   "execution_count": null,
   "metadata": {},
   "outputs": [],
   "source": [
    "!git clone https://github.com/hsma-programme/h6_3c_interactive_plots_travel.git\n",
    "%cd /content/h6_3c_interactive_plots_travel/h6_3c_interactive_plots_travel/exercises_colab"
   ]
  },
  {
   "cell_type": "markdown",
   "metadata": {},
   "source": [
    "Import the required packages."
   ]
  },
  {
   "cell_type": "code",
   "execution_count": null,
   "metadata": {},
   "outputs": [],
   "source": [
    "import pandas as pd\n",
    "import geopandas\n",
    "import folium"
   ]
  },
  {
   "cell_type": "markdown",
   "metadata": {},
   "source": [
    "## Core"
   ]
  },
  {
   "cell_type": "markdown",
   "metadata": {},
   "source": [
    "### The Dentist Dataset - Point Data"
   ]
  },
  {
   "cell_type": "markdown",
   "metadata": {},
   "source": [
    "Run this section to import the dentist activity dataframe and convert it to EPSG:4326 (which will work with Folium, unlike EPSG:27700 or EPSG:3857). "
   ]
  },
  {
   "cell_type": "code",
   "execution_count": null,
   "metadata": {},
   "outputs": [],
   "source": [
    "dentist_activity_dec_2023 = geopandas.read_file(\"../datasets/exercise_1/dentist_activity_dec_2023.geojson\")\n",
    "dentist_activity_dec_2023 = dentist_activity_dec_2023[dentist_activity_dec_2023['result_nhs_ha'] == \"South West\"]\n",
    "dentist_activity_dec_2023 = dentist_activity_dec_2023.to_crs('EPSG:4326').reset_index(drop=True)\n",
    "dentist_activity_dec_2023.head()"
   ]
  },
  {
   "cell_type": "markdown",
   "metadata": {},
   "source": [
    "Create an empty map for us to put our dentist points onto."
   ]
  },
  {
   "cell_type": "code",
   "execution_count": null,
   "metadata": {},
   "outputs": [],
   "source": [
    "dentist_map_interactive = folium.Map(\n",
    "    location=[55,-3.5],\n",
    "    zoom_start=5.25,\n",
    "    tiles='cartodbpositron'\n",
    "    )"
   ]
  },
  {
   "cell_type": "markdown",
   "metadata": {},
   "source": [
    "Filter out instances with no geometry."
   ]
  },
  {
   "cell_type": "code",
   "execution_count": null,
   "metadata": {},
   "outputs": [],
   "source": [
    "dentist_activity_dec_2023 = dentist_activity_dec_2023[~dentist_activity_dec_2023['geometry'].is_empty]"
   ]
  },
  {
   "cell_type": "markdown",
   "metadata": {},
   "source": [
    "Create a geometry list from the GeoDataFrame."
   ]
  },
  {
   "cell_type": "code",
   "execution_count": null,
   "metadata": {},
   "outputs": [],
   "source": [
    "dentist_activity_dec_2023_geometry_list = [[point.xy[1][0], point.xy[0][0]] for point in dentist_activity_dec_2023.geometry]\n",
    "dentist_activity_dec_2023_geometry_list"
   ]
  },
  {
   "cell_type": "markdown",
   "metadata": {},
   "source": [
    "Loop through the points in **dentist_activity_dec_2023_geometry_list** and add them to your map as Folium markers."
   ]
  },
  {
   "cell_type": "code",
   "execution_count": null,
   "metadata": {},
   "outputs": [],
   "source": [
    "for coordinates in dentist_activity_dec_2023_geometry_list:\n",
    "    dentist_map_interactive.add_child(\n",
    "        folium.Marker(\n",
    "            location=coordinates\n",
    "        )\n",
    "    )"
   ]
  },
  {
   "cell_type": "markdown",
   "metadata": {},
   "source": [
    "Display the updated map by running the line below."
   ]
  },
  {
   "cell_type": "code",
   "execution_count": null,
   "metadata": {},
   "outputs": [],
   "source": [
    "dentist_map_interactive"
   ]
  },
  {
   "cell_type": "markdown",
   "metadata": {},
   "source": [
    "Add a tooltip showing the practice name and the number of UDA units they delivered."
   ]
  },
  {
   "cell_type": "code",
   "execution_count": null,
   "metadata": {},
   "outputs": [],
   "source": [
    "for i, coordinates in enumerate(dentist_activity_dec_2023_geometry_list):\n",
    "    dentist_map_interactive.add_child(\n",
    "        folium.Marker(\n",
    "            location=coordinates,\n",
    "            tooltip=f\"{dentist_activity_dec_2023['PROVIDER_NAME'][i]}: {dentist_activity_dec_2023['UDA_DELIVERED'][i]} units delivered\"\n",
    "        )\n",
    "    )\n",
    "\n",
    "dentist_map_interactive"
   ]
  },
  {
   "cell_type": "markdown",
   "metadata": {},
   "source": [
    "### The stats19 dataset - Choropleths"
   ]
  },
  {
   "cell_type": "markdown",
   "metadata": {},
   "source": [
    "The following code reads in the MSOA-level data as a geodataframe."
   ]
  },
  {
   "cell_type": "code",
   "execution_count": null,
   "metadata": {},
   "outputs": [],
   "source": [
    "stats19_choro_gdf = geopandas.read_file(\"../datasets/exercise_1/stats_19_counts_by_msoa_normalised_3857.geojson\")\n",
    "stats19_choro_gdf.head()"
   ]
  },
  {
   "cell_type": "markdown",
   "metadata": {},
   "source": [
    "View the available columns."
   ]
  },
  {
   "cell_type": "code",
   "execution_count": null,
   "metadata": {},
   "outputs": [],
   "source": [
    "stats19_choro_gdf.columns"
   ]
  },
  {
   "cell_type": "markdown",
   "metadata": {},
   "source": [
    "Create a base map. "
   ]
  },
  {
   "cell_type": "code",
   "execution_count": null,
   "metadata": {},
   "outputs": [],
   "source": [
    "stats19_map_interactive = folium.Map(\n",
    "    location=[55,-3.5],\n",
    "    zoom_start=5.25,\n",
    "    tiles='cartodbpositron'\n",
    "    )"
   ]
  },
  {
   "cell_type": "markdown",
   "metadata": {},
   "source": [
    "Create a choropleth layer of a column of your choice."
   ]
  },
  {
   "cell_type": "code",
   "execution_count": null,
   "metadata": {},
   "outputs": [],
   "source": [
    "choropleth = folium.Choropleth(\n",
    "    geo_data = stats19_choro_gdf,\n",
    "    data = stats19_choro_gdf,\n",
    "    columns = ['MSOA11CD','snow_collisions_2018_2022_rate'],\n",
    "    key_on = 'feature.properties.MSOA11CD',\n",
    "    fill_color = 'OrRd',\n",
    "    fill_opacity = 0.4,\n",
    "    line_weight = 0.3,\n",
    "    legend_name = \"Collisions in snow - of total collisions in MSOA (2018-2022)\",\n",
    "    highlight = True,\n",
    "    smooth_factor = 0\n",
    ")\n"
   ]
  },
  {
   "cell_type": "markdown",
   "metadata": {},
   "source": [
    "Add the choropleth layer to the basemap."
   ]
  },
  {
   "cell_type": "code",
   "execution_count": null,
   "metadata": {},
   "outputs": [],
   "source": [
    "choropleth.add_to(stats19_map_interactive)"
   ]
  },
  {
   "cell_type": "markdown",
   "metadata": {},
   "source": [
    "Display the final map."
   ]
  },
  {
   "cell_type": "code",
   "execution_count": null,
   "metadata": {},
   "outputs": [],
   "source": [
    "stats19_map_interactive"
   ]
  },
  {
   "cell_type": "markdown",
   "metadata": {},
   "source": [
    "Add a tooltip."
   ]
  },
  {
   "cell_type": "code",
   "execution_count": null,
   "metadata": {},
   "outputs": [],
   "source": [
    "choropleth.geojson.add_child(\n",
    "    folium.features.GeoJsonTooltip(\n",
    "        ['MSOA11CD','snow_collisions_2018_2022_rate'],\n",
    "        labels=True\n",
    "    )\n",
    ")"
   ]
  },
  {
   "cell_type": "markdown",
   "metadata": {},
   "source": [
    "Display the updated map."
   ]
  },
  {
   "cell_type": "code",
   "execution_count": null,
   "metadata": {},
   "outputs": [],
   "source": [
    "stats19_map_interactive"
   ]
  },
  {
   "cell_type": "markdown",
   "metadata": {},
   "source": [
    "Save the map to a file."
   ]
  },
  {
   "cell_type": "code",
   "execution_count": null,
   "metadata": {},
   "outputs": [],
   "source": [
    "stats19_map_interactive.save('stats19_snow_rate.html')"
   ]
  },
  {
   "cell_type": "markdown",
   "metadata": {},
   "source": [
    "## Extension"
   ]
  },
  {
   "cell_type": "markdown",
   "metadata": {},
   "source": [
    "### Return to your dentist map"
   ]
  },
  {
   "cell_type": "markdown",
   "metadata": {},
   "source": [
    "Add the icon 'odontology'."
   ]
  },
  {
   "cell_type": "code",
   "execution_count": null,
   "metadata": {},
   "outputs": [],
   "source": [
    "odontology_icon_path = \"../datasets/exercise_1/odontology.png\"\n",
    "\n",
    "dentist_map_interactive = folium.Map(\n",
    "    location=[55,-3.5],\n",
    "    zoom_start=5.25,\n",
    "    tiles='cartodbpositron'\n",
    "    )\n",
    "\n",
    "for coordinates in dentist_activity_dec_2023_geometry_list:\n",
    "    icon = folium.features.CustomIcon(\n",
    "        odontology_icon_path,\n",
    "        icon_size=(24,24)\n",
    "    )\n",
    "\n",
    "    dentist_map_interactive.add_child(\n",
    "        folium.Marker(\n",
    "            location=coordinates,\n",
    "            icon=icon\n",
    "        )\n",
    "    )\n",
    "\n",
    "dentist_map_interactive"
   ]
  },
  {
   "cell_type": "markdown",
   "metadata": {},
   "source": [
    "Create a heatmap of dentists."
   ]
  },
  {
   "cell_type": "code",
   "execution_count": null,
   "metadata": {},
   "outputs": [],
   "source": [
    "from folium import plugins\n",
    "\n",
    "dentist_map_heatmap = folium.Map(\n",
    "    location=[55,-3.5],\n",
    "    zoom_start=5.25,\n",
    "    tiles='cartodbpositron'\n",
    "    )\n",
    "\n",
    "heat_data = [[point.xy[1][0], point.xy[0][0]] for point in dentist_activity_dec_2023.geometry]\n",
    "\n",
    "heatmap_layer = plugins.HeatMap(\n",
    "    heat_data,\n",
    "    radius=10,\n",
    "    blur=5\n",
    "    )\n",
    "\n",
    "\n",
    "heatmap_layer.add_to(dentist_map_heatmap)\n",
    "\n",
    "dentist_map_heatmap"
   ]
  },
  {
   "cell_type": "markdown",
   "metadata": {},
   "source": [
    "## Challenge: Bonus Exercises"
   ]
  },
  {
   "cell_type": "markdown",
   "metadata": {},
   "source": [
    "### 1. Try out some of the plugins from the slides"
   ]
  },
  {
   "cell_type": "code",
   "execution_count": null,
   "metadata": {},
   "outputs": [],
   "source": [
    "# No solution given"
   ]
  },
  {
   "cell_type": "markdown",
   "metadata": {},
   "source": [
    "### 2. Explore what happens if you add a dataset of markers over the top of a choropleth"
   ]
  },
  {
   "cell_type": "markdown",
   "metadata": {},
   "source": [
    "- Load in the indices of multiple deprivation file from here: https://research.mysociety.org/sites/imd2019/about/#data (choose **Local authority - MSOA-level file**)\n",
    "- Join these to the geodataframe of MSOA boundaries below (the code just strips the stats19 data out, leaving you with just the boundaries).\n",
    "- Create a basic map and then add a choropleth layer of the IMD deciles.\n",
    "- Then plot your dentist dataset from the beginning of this notebook over the top."
   ]
  },
  {
   "cell_type": "code",
   "execution_count": null,
   "metadata": {},
   "outputs": [],
   "source": [
    "msoa_boundaries = geopandas.read_file(\"../datasets/exercise_1/stats_19_counts_by_msoa_normalised_3857.geojson\")[['MSOA11CD', 'geometry']]\n",
    "msoa_boundaries.head()"
   ]
  },
  {
   "cell_type": "code",
   "execution_count": null,
   "metadata": {},
   "outputs": [],
   "source": [
    "msoa_imd = pd.read_csv(\"https://research.mysociety.org/sites/imd2019/media/data/imd2019_msoa_level_data.csv\")\n",
    "msoa_imd.head()"
   ]
  },
  {
   "cell_type": "code",
   "execution_count": null,
   "metadata": {},
   "outputs": [],
   "source": [
    "msoa_imd_gdf = pd.merge(\n",
    "    msoa_boundaries,\n",
    "    msoa_imd,\n",
    "    left_on=\"MSOA11CD\",\n",
    "    right_on=\"MSOAC\",\n",
    "    how=\"left\"\n",
    "    )\n",
    "\n",
    "imd_map_interactive = folium.Map(\n",
    "    location=[55,-3.5],\n",
    "    zoom_start=5.25,\n",
    "    tiles='cartodbpositron'\n",
    "    )\n",
    "\n",
    "choropleth = folium.Choropleth(\n",
    "    geo_data = msoa_imd_gdf,\n",
    "    data = msoa_imd_gdf,\n",
    "    columns = ['MSOA11CD','MSOADECILE'],\n",
    "    key_on = 'feature.properties.MSOA11CD',\n",
    "    fill_color = 'OrRd',\n",
    "    fill_opacity = 0.4,\n",
    "    line_weight = 0.3,\n",
    "    legend_name = \"MSOA Decile\",\n",
    "    highlight = True,\n",
    "    smooth_factor = 0\n",
    ")\n",
    "\n",
    "choropleth.add_to(imd_map_interactive)\n",
    "\n",
    "choropleth.geojson.add_child(\n",
    "    folium.features.GeoJsonTooltip(\n",
    "        ['MSOA11CD','MSOAHOCLN', \"MSOADECILE\"],\n",
    "        labels=True\n",
    "    )\n",
    ")\n",
    "\n",
    "for coordinates in dentist_activity_dec_2023_geometry_list:\n",
    "    imd_map_interactive.add_child(\n",
    "        folium.Marker(\n",
    "            location=coordinates\n",
    "        )\n",
    "    )\n",
    "\n",
    "\n",
    "imd_map_interactive"
   ]
  }
 ],
 "metadata": {
  "kernelspec": {
   "display_name": ".venv",
   "language": "python",
   "name": "python3"
  },
  "language_info": {
   "codemirror_mode": {
    "name": "ipython",
    "version": 3
   },
   "file_extension": ".py",
   "mimetype": "text/x-python",
   "name": "python",
   "nbconvert_exporter": "python",
   "pygments_lexer": "ipython3",
   "version": "3.11.4"
  }
 },
 "nbformat": 4,
 "nbformat_minor": 2
}
