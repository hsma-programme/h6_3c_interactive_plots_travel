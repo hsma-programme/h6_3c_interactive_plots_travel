{
 "cells": [
  {
   "cell_type": "markdown",
   "metadata": {},
   "source": [
    "# HSMA 3C: Exercise 3 - Geostatistics"
   ]
  },
  {
   "cell_type": "markdown",
   "metadata": {},
   "source": [
    "Import the required packages."
   ]
  },
  {
   "cell_type": "code",
   "execution_count": 2,
   "metadata": {},
   "outputs": [],
   "source": [
    "import pandas as pd\n",
    "import geopandas\n",
    "\n",
    "# YOUR CODE HERE"
   ]
  },
  {
   "cell_type": "markdown",
   "metadata": {},
   "source": [
    "The code below imports the dataset we will be using and prints the names of the available columns. "
   ]
  },
  {
   "cell_type": "code",
   "execution_count": 4,
   "metadata": {},
   "outputs": [
    {
     "data": {
      "text/plain": [
       "Index(['MSOA11CD', 'MSOA11NM', 'MSOA11NMW', 'BNG_E', 'BNG_N', 'LONG', 'LAT',\n",
       "       'GlobalID', 'total_number_of_collisions_2018_2022',\n",
       "       'total_number_of_casualties_by_casualty_lsoa_2018_2022',\n",
       "       'total_number_of_casualties_by_msoa_of_accident_2018_2022',\n",
       "       'fatal_casualties_2018_2022', 'cyclist_casualties_2018_2022',\n",
       "       'pedestrian_casualties_2018_2022', 'car_occupant_casualties_2018_2022',\n",
       "       'motorcycle_casualties_2018_2022', 'horse_rider_casualties_2018_2022',\n",
       "       'snow_collisions_2018_2022', 'fog_or_mist_collisions_2018_2022',\n",
       "       'darkness_collisions_2018_2022', 'daylight_collisions_2018_2022',\n",
       "       'summer_collisions_2018_2022', 'winter_collisions_2018_2022',\n",
       "       'fatal_casualties_2018_2022_rate', 'cyclist_casualties_2018_2022_rate',\n",
       "       'pedestrian_casualties_2018_2022_rate',\n",
       "       'horse_rider_casualties_2018_2022_rate',\n",
       "       'car_occupant_casualties_2018_2022_rate',\n",
       "       'motorcycle_casualties_2018_2022_rate',\n",
       "       'snow_collisions_2018_2022_rate',\n",
       "       'fog_or_mist_collisions_2018_2022_rate',\n",
       "       'darkness_collisions_2018_2022_rate',\n",
       "       'daylight_collisions_2018_2022_rate',\n",
       "       'summer_collisions_2018_2022_rate', 'winter_collisions_2018_2022_rate',\n",
       "       'MSOA Code', 'All Ages',\n",
       "       'total_number_of_casualties_by_casualty_lsoa_2018_2022_per_1000_occ',\n",
       "       'fatal_casualties_2018_2022_per_1000_occ',\n",
       "       'cyclist_casualties_2018_2022_per_1000_occ',\n",
       "       'pedestrian_casualties_2018_2022_per_1000_occ',\n",
       "       'horse_rider_casualties_2018_2022_per_1000_occ',\n",
       "       'car_occupant_casualties_2018_2022_per_1000_occ',\n",
       "       'snow_collisions_2018_2022_per_1000_occ',\n",
       "       'fog_or_mist_collisions_2018_2022_per_1000_occ',\n",
       "       'darkness_collisions_2018_2022_per_1000_occ',\n",
       "       'daylight_collisions_2018_2022_per_1000_occ',\n",
       "       'summer_collisions_2018_2022_per_1000_occ',\n",
       "       'winter_collisions_2018_2022_per_1000_occ', 'geometry'],\n",
       "      dtype='object')"
      ]
     },
     "execution_count": 4,
     "metadata": {},
     "output_type": "execute_result"
    }
   ],
   "source": [
    "stats19_choro_gdf = geopandas.read_file(\"../datasets/stats_19_counts_by_msoa_normalised_3857.geojson\")\n",
    "stats19_choro_gdf.columns"
   ]
  },
  {
   "cell_type": "markdown",
   "metadata": {},
   "source": [
    "### Calculating Weights"
   ]
  },
  {
   "cell_type": "markdown",
   "metadata": {},
   "source": [
    "Calculate the weights for the stats19 dataset.\n",
    "\n",
    "Use K Nearest Neighbours with a k of 8."
   ]
  },
  {
   "cell_type": "code",
   "execution_count": null,
   "metadata": {},
   "outputs": [],
   "source": [
    "w = # YOUR CODE HERE"
   ]
  },
  {
   "cell_type": "markdown",
   "metadata": {},
   "source": [
    "Add the lagged weights for the column 'cyclist_casualties_2018_2022_rate' to the dataframe. "
   ]
  },
  {
   "cell_type": "code",
   "execution_count": null,
   "metadata": {},
   "outputs": [],
   "source": [
    "stats19_choro_gdf['cyclist_casualties_2018_2022_rate_lagged'] = # YOUR CODE HERE"
   ]
  },
  {
   "cell_type": "markdown",
   "metadata": {},
   "source": [
    "Plot the original value for 'cyclist_casualties_2018_2022_rate' alongside the lagged weights."
   ]
  },
  {
   "cell_type": "markdown",
   "metadata": {},
   "source": [
    "### Global Moran's I"
   ]
  },
  {
   "cell_type": "code",
   "execution_count": null,
   "metadata": {},
   "outputs": [],
   "source": []
  },
  {
   "cell_type": "markdown",
   "metadata": {},
   "source": [
    "### Local Moran's I"
   ]
  },
  {
   "cell_type": "code",
   "execution_count": null,
   "metadata": {},
   "outputs": [],
   "source": []
  },
  {
   "cell_type": "markdown",
   "metadata": {},
   "source": [
    "## Experimenting with different methods of calculating weights"
   ]
  },
  {
   "cell_type": "code",
   "execution_count": null,
   "metadata": {},
   "outputs": [],
   "source": []
  }
 ],
 "metadata": {
  "kernelspec": {
   "display_name": ".venv",
   "language": "python",
   "name": "python3"
  },
  "language_info": {
   "codemirror_mode": {
    "name": "ipython",
    "version": 3
   },
   "file_extension": ".py",
   "mimetype": "text/x-python",
   "name": "python",
   "nbconvert_exporter": "python",
   "pygments_lexer": "ipython3",
   "version": "3.10.12"
  }
 },
 "nbformat": 4,
 "nbformat_minor": 2
}
