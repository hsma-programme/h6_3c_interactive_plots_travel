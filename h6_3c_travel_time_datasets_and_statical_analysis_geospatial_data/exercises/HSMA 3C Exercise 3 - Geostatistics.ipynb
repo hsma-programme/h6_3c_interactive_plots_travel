{
 "cells": [
  {
   "cell_type": "markdown",
   "metadata": {},
   "source": [
    "# HSMA 3C: Exercise 3 - Geostatistics"
   ]
  },
  {
   "cell_type": "markdown",
   "metadata": {},
   "source": [
    "Import the required packages."
   ]
  },
  {
   "cell_type": "code",
   "execution_count": 2,
   "metadata": {},
   "outputs": [],
   "source": [
    "import pandas as pd\n",
    "import geopandas\n",
    "\n",
    "# YOUR CODE HERE"
   ]
  },
  {
   "cell_type": "markdown",
   "metadata": {},
   "source": [
    "The code below imports the dataset we will be using and prints the names of the available columns. "
   ]
  },
  {
   "cell_type": "code",
   "execution_count": 4,
   "metadata": {},
   "outputs": [
    {
     "data": {
      "text/plain": [
       "Index(['MSOA11CD', 'MSOA11NM', 'MSOA11NMW', 'BNG_E', 'BNG_N', 'LONG', 'LAT',\n",
       "       'GlobalID', 'total_number_of_collisions_2018_2022',\n",
       "       'total_number_of_casualties_by_casualty_lsoa_2018_2022',\n",
       "       'total_number_of_casualties_by_msoa_of_accident_2018_2022',\n",
       "       'fatal_casualties_2018_2022', 'cyclist_casualties_2018_2022',\n",
       "       'pedestrian_casualties_2018_2022', 'car_occupant_casualties_2018_2022',\n",
       "       'motorcycle_casualties_2018_2022', 'horse_rider_casualties_2018_2022',\n",
       "       'snow_collisions_2018_2022', 'fog_or_mist_collisions_2018_2022',\n",
       "       'darkness_collisions_2018_2022', 'daylight_collisions_2018_2022',\n",
       "       'summer_collisions_2018_2022', 'winter_collisions_2018_2022',\n",
       "       'fatal_casualties_2018_2022_rate', 'cyclist_casualties_2018_2022_rate',\n",
       "       'pedestrian_casualties_2018_2022_rate',\n",
       "       'horse_rider_casualties_2018_2022_rate',\n",
       "       'car_occupant_casualties_2018_2022_rate',\n",
       "       'motorcycle_casualties_2018_2022_rate',\n",
       "       'snow_collisions_2018_2022_rate',\n",
       "       'fog_or_mist_collisions_2018_2022_rate',\n",
       "       'darkness_collisions_2018_2022_rate',\n",
       "       'daylight_collisions_2018_2022_rate',\n",
       "       'summer_collisions_2018_2022_rate', 'winter_collisions_2018_2022_rate',\n",
       "       'MSOA Code', 'All Ages',\n",
       "       'total_number_of_casualties_by_casualty_lsoa_2018_2022_per_1000_occ',\n",
       "       'fatal_casualties_2018_2022_per_1000_occ',\n",
       "       'cyclist_casualties_2018_2022_per_1000_occ',\n",
       "       'pedestrian_casualties_2018_2022_per_1000_occ',\n",
       "       'horse_rider_casualties_2018_2022_per_1000_occ',\n",
       "       'car_occupant_casualties_2018_2022_per_1000_occ',\n",
       "       'snow_collisions_2018_2022_per_1000_occ',\n",
       "       'fog_or_mist_collisions_2018_2022_per_1000_occ',\n",
       "       'darkness_collisions_2018_2022_per_1000_occ',\n",
       "       'daylight_collisions_2018_2022_per_1000_occ',\n",
       "       'summer_collisions_2018_2022_per_1000_occ',\n",
       "       'winter_collisions_2018_2022_per_1000_occ', 'geometry'],\n",
       "      dtype='object')"
      ]
     },
     "execution_count": 4,
     "metadata": {},
     "output_type": "execute_result"
    }
   ],
   "source": [
    "stats19_choro_gdf = geopandas.read_file(\"../datasets/stats_19_counts_by_msoa_normalised_3857.geojson\")\n",
    "stats19_choro_gdf.columns"
   ]
  },
  {
   "cell_type": "markdown",
   "metadata": {},
   "source": [
    "### Calculating Weights"
   ]
  },
  {
   "cell_type": "markdown",
   "metadata": {},
   "source": [
    "Calculate the weights for the stats19 dataset.\n",
    "\n",
    "Use K Nearest Neighbours with a k of 8."
   ]
  },
  {
   "cell_type": "code",
   "execution_count": null,
   "metadata": {},
   "outputs": [],
   "source": [
    "w = # YOUR CODE HERE"
   ]
  },
  {
   "cell_type": "markdown",
   "metadata": {},
   "source": [
    "Add the lagged weights for the column 'cyclist_casualties_2018_2022_rate' to the dataframe. "
   ]
  },
  {
   "cell_type": "code",
   "execution_count": null,
   "metadata": {},
   "outputs": [],
   "source": [
    "stats19_choro_gdf['cyclist_casualties_2018_2022_rate_lagged'] = # YOUR CODE HERE"
   ]
  },
  {
   "cell_type": "markdown",
   "metadata": {},
   "source": [
    "Plot the original value for 'cyclist_casualties_2018_2022_rate' alongside the lagged weights."
   ]
  },
  {
   "cell_type": "code",
   "execution_count": null,
   "metadata": {},
   "outputs": [],
   "source": [
    "f, axs = plt.subplots(1, 2, figsize=(12, 6))\n",
    "ax1, ax2 = axs\n",
    "\n",
    "## YOUR CODE FOR PLOT 1 HERE\n",
    "\n",
    "ax1.axis(\"off\")\n",
    "ax1.set_title(\"Original Data\")\n",
    "\n",
    "## YOUR CODE FOR PLOT 2 HERE\n",
    "\n",
    "ax2.axis(\"off\")\n",
    "ax2.set_title(\"Lagged Data\")"
   ]
  },
  {
   "cell_type": "markdown",
   "metadata": {},
   "source": [
    "### Global Moran's I"
   ]
  },
  {
   "cell_type": "markdown",
   "metadata": {},
   "source": [
    "Standardise the rate and the standardised rate.\n",
    "\n",
    "HINT: Remember that the general formula for this is to subtract the mean of the whole column from each individual value."
   ]
  },
  {
   "cell_type": "code",
   "execution_count": null,
   "metadata": {},
   "outputs": [],
   "source": [
    "stats19_choro_gdf['cyclist_casualties_2018_2022_rate_lagged_standardised'] = # YOUR CODE HERE\n",
    "stats19_choro_gdf['cyclist_casualties_2018_2022_rate_standardised'] = #YOUR CODE HERE"
   ]
  },
  {
   "cell_type": "markdown",
   "metadata": {},
   "source": [
    "Now plot this using the Seaborn package. "
   ]
  },
  {
   "cell_type": "code",
   "execution_count": null,
   "metadata": {},
   "outputs": [],
   "source": [
    "f, ax = plt.subplots(1, figsize=(6, 6))\n",
    "\n",
    "seaborn.regplot(\n",
    "    x=\"cyclist_casualties_2018_2022_rate_standardised\",\n",
    "    y=\"cyclist_casualties_2018_2022_rate_lagged_standardised\",\n",
    "    ci=None,\n",
    "    data=..., # YOUR CODE HERE\n",
    "    line_kws={\"color\": \"r\"},\n",
    ")\n",
    "\n",
    "# This code creates vertical and horizontal lines through (0,0)\n",
    "ax.axvline(0, c=\"k\", alpha=0.5)\n",
    "ax.axhline(0, c=\"k\", alpha=0.5)\n",
    "\n",
    "ax.set_title(...) # YOUR CODE HERE\n",
    "plt.show()"
   ]
  },
  {
   "cell_type": "markdown",
   "metadata": {},
   "source": [
    "Now calculate the value of Moran's I. "
   ]
  },
  {
   "cell_type": "code",
   "execution_count": null,
   "metadata": {},
   "outputs": [],
   "source": [
    "moran = # YOUR CODE HERE"
   ]
  },
  {
   "cell_type": "markdown",
   "metadata": {},
   "source": [
    "Print the value by running the code below."
   ]
  },
  {
   "cell_type": "code",
   "execution_count": null,
   "metadata": {},
   "outputs": [],
   "source": [
    "moran.I"
   ]
  },
  {
   "cell_type": "markdown",
   "metadata": {},
   "source": []
  },
  {
   "cell_type": "markdown",
   "metadata": {},
   "source": [
    "### Local Moran's I"
   ]
  },
  {
   "cell_type": "code",
   "execution_count": null,
   "metadata": {},
   "outputs": [],
   "source": []
  },
  {
   "cell_type": "markdown",
   "metadata": {},
   "source": [
    "## Experimenting with different methods of calculating weights"
   ]
  },
  {
   "cell_type": "code",
   "execution_count": null,
   "metadata": {},
   "outputs": [],
   "source": []
  },
  {
   "cell_type": "markdown",
   "metadata": {},
   "source": [
    "## Bonus Exercises"
   ]
  },
  {
   "cell_type": "markdown",
   "metadata": {},
   "source": [
    "### 1. Try plotting a map of where rates are above average or below average"
   ]
  },
  {
   "cell_type": "markdown",
   "metadata": {},
   "source": [
    "Let's take a step back from the statistics above and consider the pros and cons of some other simpler statistics.\n",
    "\n",
    "The example below shows this using the diabetes dataset from the lectures, with the average here being the medain.\n",
    "\n",
    "This can be a nice way to get a quick overview of the geographical distribution of values in a way that's a bit more understandable for stakeholders - though as always, keep your data head on when interpreting this. Is what you are seeing due to an underlying pattern? If you have a single area that is surrounded by other values, does that just happen to be ever so slightly different or is it actually a very unusual value that is less likely to be due to chance?\n",
    "\n",
    "Also be clear in your explanations about what average you are using - you may need to explain the different sorts of average to your stakeholders."
   ]
  },
  {
   "cell_type": "markdown",
   "metadata": {},
   "source": [
    "![image.png](../_source/example_average_plot.png)"
   ]
  },
  {
   "cell_type": "markdown",
   "metadata": {},
   "source": [
    "First, calculate the median rate."
   ]
  },
  {
   "cell_type": "code",
   "execution_count": null,
   "metadata": {},
   "outputs": [],
   "source": [
    "stats19_choro_gdf['cyclist_casualties_2018_2022_rate_median'] = ## YOUR CODE HERE"
   ]
  },
  {
   "cell_type": "markdown",
   "metadata": {},
   "source": [
    "Next, make a column that returns one 'Above Average' if the value in the column is higher than the median, and 'Below Average' if it is not. \n",
    "\n",
    "HINT: The numpy function `where`, called using `np.where()`, is a great way of making a new column in Python based on the value of a column."
   ]
  },
  {
   "cell_type": "code",
   "execution_count": null,
   "metadata": {},
   "outputs": [],
   "source": [
    "stats19_choro_gdf['above_average'] = np.where(\n",
    "        ## YOUR CODE HERE\n",
    ")"
   ]
  },
  {
   "cell_type": "markdown",
   "metadata": {},
   "source": [
    "Finally, plot the value of this new column as a map."
   ]
  },
  {
   "cell_type": "code",
   "execution_count": null,
   "metadata": {},
   "outputs": [],
   "source": []
  },
  {
   "cell_type": "markdown",
   "metadata": {},
   "source": [
    "Consider how you could add extra information to this map to make it more useful. "
   ]
  },
  {
   "cell_type": "code",
   "execution_count": null,
   "metadata": {},
   "outputs": [],
   "source": []
  },
  {
   "cell_type": "markdown",
   "metadata": {},
   "source": [
    "Can you think of any other ways you could create new columns or filter the dataset to highlight values of interest in this dataset?"
   ]
  },
  {
   "cell_type": "code",
   "execution_count": null,
   "metadata": {},
   "outputs": [],
   "source": []
  }
 ],
 "metadata": {
  "kernelspec": {
   "display_name": ".venv",
   "language": "python",
   "name": "python3"
  },
  "language_info": {
   "codemirror_mode": {
    "name": "ipython",
    "version": 3
   },
   "file_extension": ".py",
   "mimetype": "text/x-python",
   "name": "python",
   "nbconvert_exporter": "python",
   "pygments_lexer": "ipython3",
   "version": "3.10.12"
  }
 },
 "nbformat": 4,
 "nbformat_minor": 2
}
